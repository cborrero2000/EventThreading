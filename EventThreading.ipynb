{
 "cells": [
  {
   "cell_type": "code",
   "execution_count": 2,
   "metadata": {},
   "outputs": [
    {
     "name": "stdout",
     "output_type": "stream",
     "text": [
      "Started thread but waiting for event...\n",
      "Event is set.\n",
      "Event received, releasing thread...\n",
      "\n"
     ]
    }
   ],
   "source": [
    "import threading\n",
    "import time\n",
    "\n",
    "def task(event, timeout):\n",
    "  print(\"Started thread but waiting for event...\")\n",
    "  # make the thread wait for event with timeout set\n",
    "  event_set = event.wait(timeout)\n",
    "  if event_set:\n",
    "    print(\"Event received, releasing thread...\")\n",
    "  else:\n",
    "    print(\"Time out, moving ahead without event...\")\n",
    "    \n",
    "if __name__ == '__main__':\n",
    "  # initializing the event object\n",
    "  e = threading.Event()\n",
    "  \n",
    "  # starting the thread\n",
    "  thread1 = threading.Thread(name='Event-Blocking-Thread', target=task, args=(e,4))\n",
    "  thread1.start()\n",
    "  # sleeping the main thread for 3 seconds\n",
    "  time.sleep(3)\n",
    "  # generating the event\n",
    "  e.set()\n",
    "  print(\"Event is set.\\n\")"
   ]
  },
  {
   "cell_type": "code",
   "execution_count": null,
   "metadata": {},
   "outputs": [],
   "source": []
  }
 ],
 "metadata": {
  "kernelspec": {
   "display_name": "Python 3",
   "language": "python",
   "name": "python3"
  },
  "language_info": {
   "codemirror_mode": {
    "name": "ipython",
    "version": 3
   },
   "file_extension": ".py",
   "mimetype": "text/x-python",
   "name": "python",
   "nbconvert_exporter": "python",
   "pygments_lexer": "ipython3",
   "version": "3.8.3"
  }
 },
 "nbformat": 4,
 "nbformat_minor": 4
}
